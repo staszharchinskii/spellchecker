{
 "cells": [
  {
   "cell_type": "markdown",
   "id": "9cedf262",
   "metadata": {},
   "source": [
    "# Автокоректор помилок на Python\n",
    "\n",
    "На основі блокнота Пітера Норвіга, Google\n",
    "\n",
    "Переклад і доповнення: Жарчинський Станіслав"
   ]
  },
  {
   "cell_type": "code",
   "execution_count": 1,
   "id": "d7c5581f",
   "metadata": {},
   "outputs": [
    {
     "name": "stdout",
     "output_type": "stream",
     "text": [
      "%pylab is deprecated, use %matplotlib inline and import the required libraries.\n",
      "Populating the interactive namespace from numpy and matplotlib\n"
     ]
    }
   ],
   "source": [
    "# імпортуй і володарюй\n",
    "%pylab inline\n",
    "import re\n",
    "import math\n",
    "from collections import Counter\n",
    "import requests"
   ]
  },
  {
   "cell_type": "markdown",
   "id": "b71b42ff",
   "metadata": {},
   "source": [
    "# Дані: Текст і слова\n",
    "Перш ніж щось робити зі словами (редагувати помилки, наприклад), треба ці слова звідкись взяти. Прийдеться знайти якийсь текст, можливо - з файлу, а можливо - десь на просторах інтернету. Потім цей текст розбити на слова. Ми запозичимо текст у Пітера Норвіга - автора одного з дуже популярних алгоритмів перевірки правопису (і директора з досліджень Google) :) [Ось текст.](https://norvig.com/big.txt) Зчитуємо його з інтернету та подивимося, наскільки фрагмент тексту великий (у кількості символів):"
   ]
  },
  {
   "cell_type": "code",
   "execution_count": 2,
   "id": "8317fb36",
   "metadata": {},
   "outputs": [
    {
     "data": {
      "text/plain": [
       "6488666"
      ]
     },
     "execution_count": 2,
     "metadata": {},
     "output_type": "execute_result"
    }
   ],
   "source": [
    "TEXT = requests.get('https://norvig.com/big.txt').text\n",
    "len(TEXT)"
   ]
  },
  {
   "cell_type": "markdown",
   "id": "59cb6b92",
   "metadata": {},
   "source": [
    "Текст величезний – понад 6.5 млн. символів.\n",
    "\n",
    "Тепер потрібно розбити текст на слова (Ну, або якщо бути трохи формальнішим, токени). Поки що ми не сильно замислюватимемося про те, що в тексті є пунктуація, цифри та інші символи - зосередимося тільки на словах, що складаються з літер."
   ]
  },
  {
   "cell_type": "code",
   "execution_count": 3,
   "id": "d166f1f3",
   "metadata": {},
   "outputs": [],
   "source": [
    "def tokens(text):\n",
    "    \"\"\"Повертає список токенів (йдущих підряд буквених послідовностей) у тексті. \n",
    "    Текст переводиться до нижнього регістру.\"\"\"\n",
    "    return re.findall(r'[a-z]+', text.lower()) "
   ]
  },
  {
   "cell_type": "code",
   "execution_count": 4,
   "id": "c70d8676",
   "metadata": {},
   "outputs": [
    {
     "data": {
      "text/plain": [
       "['this', 'is', 'a', 'test', 'this', 'is']"
      ]
     },
     "execution_count": 4,
     "metadata": {},
     "output_type": "execute_result"
    }
   ],
   "source": [
    "tokens('This is: A test, 1, 2, 3, this is.')"
   ]
  },
  {
   "cell_type": "code",
   "execution_count": 6,
   "id": "7eb1f0fe",
   "metadata": {},
   "outputs": [
    {
     "data": {
      "text/plain": [
       "1105285"
      ]
     },
     "execution_count": 6,
     "metadata": {},
     "output_type": "execute_result"
    }
   ],
   "source": [
    "WORDS = tokens(TEXT)\n",
    "len(WORDS)"
   ]
  },
  {
   "cell_type": "markdown",
   "id": "d811ff16",
   "metadata": {},
   "source": [
    "Залишився мільйон слів. Ось перші 10:"
   ]
  },
  {
   "cell_type": "code",
   "execution_count": 7,
   "id": "c6f207c7",
   "metadata": {},
   "outputs": [
    {
     "name": "stdout",
     "output_type": "stream",
     "text": [
      "['the', 'project', 'gutenberg', 'ebook', 'of', 'the', 'adventures', 'of', 'sherlock', 'holmes']\n"
     ]
    }
   ],
   "source": [
    "print(WORDS[:10])"
   ]
  },
  {
   "cell_type": "markdown",
   "id": "4e3b2234",
   "metadata": {},
   "source": [
    "# (2) Модель: Мішок слів (aka Bag of Words)\n",
    "\n",
    "Ми створили список WORDS - список слів у тому порядку, як вони йдуть у TEXT. Ми можемо використовувати цей список як породжувальну модель (generative model) тексту. Мова – дуже складна штука і ми створюємо вкрай спрощену модель мови, яка може схопити частину цієї складної структури. У моделі мішка слів ми повністю ігноруємо порядок слів, зате дотримуємося їх частоти. Уявити це можна так: ви берете всі слова тексту і закидаєте їх у мішок. Тепер, якщо ви хочете згенерувати пропозицію за допомогою цього мішка, ви просто трясете його (слова там перемішуються) і дістаєте вказану кількість слів по одному (мішок непрозорий, так що слова ви дістаєте навмання). Майже напевно отримана пропозиція буде граматично некоректною, але слова в цьому реченні будуть у +- правильної пропорції (частіші будуть зустрічатися частіше, рідкісні - рідше). Ось функція, яка семплює(від англ. sample) пропозицію з n слів за допомогою нашого мішка:"
   ]
  },
  {
   "cell_type": "code",
   "execution_count": 8,
   "id": "d370d35e",
   "metadata": {},
   "outputs": [],
   "source": [
    "def sample(bag, n=10):\n",
    "    \"Sample a random n-word sentence from the model described by the bag of words.\"\n",
    "    return ' '.join(random.choice(bag) for _ in range(n))"
   ]
  },
  {
   "cell_type": "code",
   "execution_count": 10,
   "id": "ff99c51a",
   "metadata": {},
   "outputs": [
    {
     "data": {
      "text/plain": [
       "'they english merely agree and neck countess only rode had'"
      ]
     },
     "execution_count": 10,
     "metadata": {},
     "output_type": "execute_result"
    }
   ],
   "source": [
    "sample(WORDS)"
   ]
  },
  {
   "cell_type": "markdown",
   "id": "7b6eeb75",
   "metadata": {},
   "source": [
    "Інший вигляд мішка слів - Counter. Це словник, що складається з пар {'слово': к-сть входжень слова в текст}. Наприклад,"
   ]
  },
  {
   "cell_type": "code",
   "execution_count": 11,
   "id": "a41ed9c5",
   "metadata": {},
   "outputs": [
    {
     "data": {
      "text/plain": [
       "Counter({'is': 2, 'this': 1, 'a': 2, 'test': 2, 'it': 1})"
      ]
     },
     "execution_count": 11,
     "metadata": {},
     "output_type": "execute_result"
    }
   ],
   "source": [
    "Counter(tokens('Is this a test? It is a test!'))"
   ]
  },
  {
   "cell_type": "markdown",
   "id": "f94f6a1b",
   "metadata": {},
   "source": [
    "Counter дуже схожий на словник Python - тип dict , але він має ряд додаткових методів. Давайте загорнемо в Counter наш список слів WORDS і подивимося, що вийде:"
   ]
  },
  {
   "cell_type": "code",
   "execution_count": 13,
   "id": "0303ec82",
   "metadata": {},
   "outputs": [
    {
     "name": "stdout",
     "output_type": "stream",
     "text": [
      "[('the', 80030), ('of', 40025), ('and', 38313), ('to', 28766), ('in', 22050), ('a', 21155), ('that', 12512), ('he', 12401), ('was', 11410), ('it', 10681)]\n"
     ]
    }
   ],
   "source": [
    "COUNTS = Counter(WORDS)\n",
    "\n",
    "print(COUNTS.most_common(10))"
   ]
  },
  {
   "cell_type": "code",
   "execution_count": 14,
   "id": "59faf554",
   "metadata": {},
   "outputs": [
    {
     "name": "stdout",
     "output_type": "stream",
     "text": [
      "80030 the\n",
      "83 rare\n",
      "38313 and\n",
      "0 neverbeforeseen\n",
      "460 words\n"
     ]
    }
   ],
   "source": [
    "for w in tokens('the rare and neverbeforeseen words'):\n",
    "    print(COUNTS[w], w)"
   ]
  },
  {
   "cell_type": "code",
   "execution_count": 15,
   "id": "32ea0e94",
   "metadata": {},
   "outputs": [
    {
     "data": {
      "text/plain": [
       "29157"
      ]
     },
     "execution_count": 15,
     "metadata": {},
     "output_type": "execute_result"
    }
   ],
   "source": [
    "len(COUNTS)"
   ]
  },
  {
   "cell_type": "code",
   "execution_count": 16,
   "id": "f6a37f0d",
   "metadata": {},
   "outputs": [
    {
     "data": {
      "image/png": "[encoded data removed]",
      "text/plain": [
       "<Figure size 640x480 with 1 Axes>"
      ]
     },
     "metadata": {},
     "output_type": "display_data"
    }
   ],
   "source": [
    "M = COUNTS['the']\n",
    "yscale('log'); \n",
    "xscale('log'); \n",
    "title('Частота n-того найбільш частого слова та лінія 1/n.')\n",
    "plot([c for (w, c) in COUNTS.most_common()])\n",
    "plot([M/i for i in range(1, len(COUNTS)+1)]);"
   ]
  },
  {
   "cell_type": "markdown",
   "id": "444a97d5",
   "metadata": {},
   "source": [
    "# (3) Завдання: Перевірка Правопису"
   ]
  },
  {
   "cell_type": "code",
   "execution_count": null,
   "id": "a68263a0",
   "metadata": {},
   "outputs": [],
   "source": []
  },
  {
   "cell_type": "code",
   "execution_count": null,
   "id": "e980a275",
   "metadata": {},
   "outputs": [],
   "source": []
  },
  {
   "cell_type": "code",
   "execution_count": null,
   "id": "086ea7ec",
   "metadata": {},
   "outputs": [],
   "source": []
  }
 ],
 "metadata": {
  "kernelspec": {
   "display_name": "Python 3 (ipykernel)",
   "language": "python",
   "name": "python3"
  },
  "language_info": {
   "codemirror_mode": {
    "name": "ipython",
    "version": 3
   },
   "file_extension": ".py",
   "mimetype": "text/x-python",
   "name": "python",
   "nbconvert_exporter": "python",
   "pygments_lexer": "ipython3",
   "version": "3.11.2"
  }
 },
 "nbformat": 4,
 "nbformat_minor": 5
}
